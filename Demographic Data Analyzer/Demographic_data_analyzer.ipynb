{
  "cells": [
    {
      "cell_type": "markdown",
      "metadata": {
        "id": "view-in-github",
        "colab_type": "text"
      },
      "source": [
        "<a href=\"https://colab.research.google.com/github/Anni-21/Python-Projects/blob/main/Demographic%20Data%20Analyzer/Demographic_data_analyzer.ipynb\" target=\"_parent\"><img src=\"https://colab.research.google.com/assets/colab-badge.svg\" alt=\"Open In Colab\"/></a>"
      ]
    },
    {
      "cell_type": "code",
      "execution_count": 1,
      "metadata": {
        "id": "P_AckPb0E1Y0",
        "colab": {
          "base_uri": "https://localhost:8080/"
        },
        "outputId": "a81d0617-997c-4f4f-96c7-dc798cc9963e"
      },
      "outputs": [
        {
          "output_type": "stream",
          "name": "stdout",
          "text": [
            "Number of each race:\n",
            " race\n",
            "White                 27816\n",
            "Black                  3124\n",
            "Asian-Pac-Islander     1039\n",
            "Amer-Indian-Eskimo      311\n",
            "Other                   271\n",
            "Name: count, dtype: int64\n",
            "Average age of men: 39.4\n",
            "Percentage with Bachelors degrees: 16.4%\n",
            "Percentage with higher education that earn >50K: 46.5%\n",
            "Percentage without higher education that earn >50K: 17.4%\n",
            "Min work time: 1 hours/week\n",
            "Percentage of rich among those who work fewest hours: 10.0%\n",
            "Country with highest percentage of rich: Iran\n",
            "Highest percentage of rich people in country: 41.9%\n",
            "Top occupations in India: Prof-specialty\n"
          ]
        },
        {
          "output_type": "stream",
          "name": "stderr",
          "text": [
            "<ipython-input-1-0ef71a766a9c>:45: FutureWarning: Series.__getitem__ treating keys as positions is deprecated. In a future version, integer keys will always be treated as labels (consistent with DataFrame behavior). To access a value by position, use `ser.iloc[pos]`\n",
            "  highest_earning_country_percentage = df1[0]\n"
          ]
        },
        {
          "output_type": "execute_result",
          "data": {
            "text/plain": [
              "{'race_count': race\n",
              " White                 27816\n",
              " Black                  3124\n",
              " Asian-Pac-Islander     1039\n",
              " Amer-Indian-Eskimo      311\n",
              " Other                   271\n",
              " Name: count, dtype: int64,\n",
              " 'average_age_men': 39.4,\n",
              " 'percentage_bachelors': 16.4,\n",
              " 'higher_education_rich': 46.5,\n",
              " 'lower_education_rich': 17.4,\n",
              " 'min_work_hours': 1,\n",
              " 'rich_percentage': 10.0,\n",
              " 'highest_earning_country': 'Iran',\n",
              " 'highest_earning_country_percentage': 41.9,\n",
              " 'top_IN_occupation': 'Prof-specialty'}"
            ]
          },
          "metadata": {},
          "execution_count": 1
        }
      ],
      "source": [
        "import pandas as pd\n",
        "\n",
        "\n",
        "def calculate_demographic_data(print_data=True):\n",
        "    # Read data from file\n",
        "    df = df = pd.read_csv(\"https://github.com/Shawwnscott/FreeCodeCamp-Data-Analysis-with-Python/raw/main/Demographic%20Data%20Analyzer/adult.data.csv\")\n",
        "\n",
        "    # How many of each race are represented in this dataset? This should be a Pandas series with race names as the index labels.\n",
        "    race_count = pd.Series(df[\"race\"].value_counts())\n",
        "\n",
        "    # What is the average age of men?\n",
        "    average_age_men = round(df[df[\"sex\"] == \"Male\"][\"age\"].mean(), 1)\n",
        "\n",
        "    # What is the percentage of people who have a Bachelor's degree?\n",
        "    percentage_bachelors = round((len(df[df[\"education\"] == \"Bachelors\"]) / len(df[\"education\"])) *100, 1)\n",
        "\n",
        "    # What percentage of people with advanced education (`Bachelors`, `Masters`, or `Doctorate`) make more than 50K?\n",
        "    # What percentage of people without advanced education make more than 50K?\n",
        "\n",
        "    # with and without `Bachelors`, `Masters`, or `Doctorate`\n",
        "    higher_education = len(df[((df[\"education\"] == \"Bachelors\") | (df[\"education\"] == \"Masters\") | (df[\"education\"] == \"Doctorate\"))])\n",
        "    lower_education = len(df[((df[\"education\"] != \"Bachelors\") & (df[\"education\"] != \"Masters\") & (df[\"education\"] != \"Doctorate\"))])\n",
        "\n",
        "    # percentage with salary >50K\n",
        "    higher_ed_above_50k = len(df[((df[\"education\"] == \"Bachelors\") | (df[\"education\"] == \"Masters\") | (df[\"education\"] == \"Doctorate\")) & (df[\"salary\"] == \">50K\")])\n",
        "    lower_education_above_50k = len(df[((df[\"education\"] != \"Bachelors\") & (df[\"education\"] != \"Masters\") & (df[\"education\"] != \"Doctorate\")) & (df[\"salary\"] == \">50K\")])\n",
        "\n",
        "    higher_education_rich =  round((higher_ed_above_50k / higher_education)* 100, 1)\n",
        "    lower_education_rich = round((lower_education_above_50k  / lower_education)* 100,1)\n",
        "\n",
        "    # What is the minimum number of hours a person works per week (hours-per-week feature)?\n",
        "    min_work_hours = df[\"hours-per-week\"].min()\n",
        "\n",
        "    # What percentage of the people who work the minimum number of hours per week have a salary of >50K?\n",
        "    num_min_workers_above_50k = len(df[(df[\"hours-per-week\"] == min_work_hours) & (df[\"salary\"] == \">50K\")])\n",
        "    num_min_worker = len(df[(df[\"hours-per-week\"] == 1)])\n",
        "\n",
        "    rich_percentage = round(( num_min_workers_above_50k / num_min_worker ) * 100, 1)\n",
        "\n",
        "    # What country has the highest percentage of people that earn >50K?\n",
        "    df1 = round((df[(df[\"salary\"] == \">50K\")][\"native-country\"].value_counts()/df[\"native-country\"].value_counts())*100, 1)\n",
        "    df1 =  df1.sort_values(ascending=False)\n",
        "    highest_earning_country = df1.index[0]\n",
        "\n",
        "    highest_earning_country_percentage = df1[0]\n",
        "\n",
        "    # Identify the most popular occupation for those who earn >50K in India.\n",
        "    top_IN_occupation = df[(df[\"salary\"] == \">50K\") & ( df[\"native-country\"] == \"India\")][\"occupation\"].value_counts().index[0]\n",
        "\n",
        "    # DO NOT MODIFY BELOW THIS LINE\n",
        "\n",
        "    if print_data:\n",
        "        print(\"Number of each race:\\n\", race_count)\n",
        "        print(\"Average age of men:\", average_age_men)\n",
        "        print(f\"Percentage with Bachelors degrees: {percentage_bachelors}%\")\n",
        "        print(f\"Percentage with higher education that earn >50K: {higher_education_rich}%\")\n",
        "        print(f\"Percentage without higher education that earn >50K: {lower_education_rich}%\")\n",
        "        print(f\"Min work time: {min_work_hours} hours/week\")\n",
        "        print(f\"Percentage of rich among those who work fewest hours: {rich_percentage}%\")\n",
        "        print(\"Country with highest percentage of rich:\", highest_earning_country)\n",
        "        print(f\"Highest percentage of rich people in country: {highest_earning_country_percentage}%\")\n",
        "        print(\"Top occupations in India:\", top_IN_occupation)\n",
        "\n",
        "    return {\n",
        "        'race_count': race_count,\n",
        "        'average_age_men': average_age_men,\n",
        "        'percentage_bachelors': percentage_bachelors,\n",
        "        'higher_education_rich': higher_education_rich,\n",
        "        'lower_education_rich': lower_education_rich,\n",
        "        'min_work_hours': min_work_hours,\n",
        "        'rich_percentage': rich_percentage,\n",
        "        'highest_earning_country': highest_earning_country,\n",
        "        'highest_earning_country_percentage':\n",
        "        highest_earning_country_percentage,\n",
        "        'top_IN_occupation': top_IN_occupation\n",
        "    }\n",
        "\n",
        "\n",
        "calculate_demographic_data()"
      ]
    }
  ],
  "metadata": {
    "colab": {
      "provenance": [],
      "authorship_tag": "ABX9TyOYaF54QnUYn0NPJaHwCW7q",
      "include_colab_link": true
    },
    "kernelspec": {
      "display_name": "Python 3",
      "name": "python3"
    },
    "language_info": {
      "name": "python"
    }
  },
  "nbformat": 4,
  "nbformat_minor": 0
}