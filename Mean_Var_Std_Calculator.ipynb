{
  "nbformat": 4,
  "nbformat_minor": 0,
  "metadata": {
    "colab": {
      "provenance": [],
      "authorship_tag": "ABX9TyPWc0FI3oTZvVW1FFnQfmEW",
      "include_colab_link": true
    },
    "kernelspec": {
      "name": "python3",
      "display_name": "Python 3"
    },
    "language_info": {
      "name": "python"
    }
  },
  "cells": [
    {
      "cell_type": "markdown",
      "metadata": {
        "id": "view-in-github",
        "colab_type": "text"
      },
      "source": [
        "<a href=\"https://colab.research.google.com/github/Anni-21/Python-Projects/blob/main/Mean_Var_Std_Calculator.ipynb\" target=\"_parent\"><img src=\"https://colab.research.google.com/assets/colab-badge.svg\" alt=\"Open In Colab\"/></a>"
      ]
    },
    {
      "cell_type": "code",
      "execution_count": null,
      "metadata": {
        "id": "noYb1AtRgUdZ"
      },
      "outputs": [],
      "source": [
        "import numpy as np\n",
        "\n",
        "def calculate(list):\n",
        "    if len(list) != 9:\n",
        "        raise ValueError(\"List must contain nine numbers.\")\n",
        "\n",
        "    a = np.array(list).reshape((3,3))\n",
        "\n",
        "\n",
        "    calculations = {}\n",
        "\n",
        "    calculations['mean'] = [np.mean(a, axis=0).tolist(), np.mean(a, axis=1).tolist(), np.mean(a).tolist()]\n",
        "    calculations['variance'] = [np.var(a, axis=0).tolist(), np.var(a, axis=1).tolist(), np.var(a).tolist()]\n",
        "    calculations['standard deviation'] = [np.std(a, axis=0).tolist(), np.std(a, axis=1).tolist(), np.std(a).tolist()]\n",
        "    calculations['max'] = [np.max(a, axis=0).tolist(), np.max(a, axis=1).tolist(), np.max(a).tolist()]\n",
        "    calculations['min'] = [np.min(a, axis=0).tolist(), np.min(a, axis=1).tolist(), np.min(a).tolist()]\n",
        "    calculations['sum'] = [np.sum(a, axis=0).tolist(), np.sum(a, axis=1).tolist(), np.sum(a).tolist()]\n",
        "\n",
        "\n",
        "\n",
        "\n",
        "\n",
        "\n",
        "    return calculations"
      ]
    },
    {
      "cell_type": "code",
      "source": [
        "\n",
        "\n",
        "print(calculate([0,1,2,3,4,5,6,7,8]))\n"
      ],
      "metadata": {
        "colab": {
          "base_uri": "https://localhost:8080/"
        },
        "id": "fmVPD9ddhAjg",
        "outputId": "5ed37808-5f39-44e2-f768-860194054835"
      },
      "execution_count": null,
      "outputs": [
        {
          "output_type": "stream",
          "name": "stdout",
          "text": [
            "{'mean': [[3.0, 4.0, 5.0], [1.0, 4.0, 7.0], 4.0], 'variance': [[6.0, 6.0, 6.0], [0.6666666666666666, 0.6666666666666666, 0.6666666666666666], 6.666666666666667], 'standard deviation': [[2.449489742783178, 2.449489742783178, 2.449489742783178], [0.816496580927726, 0.816496580927726, 0.816496580927726], 2.581988897471611], 'max': [[6, 7, 8], [2, 5, 8], 8], 'min': [[0, 1, 2], [0, 3, 6], 0], 'sum': [[9, 12, 15], [3, 12, 21], 36]}\n"
          ]
        }
      ]
    },
    {
      "cell_type": "code",
      "source": [],
      "metadata": {
        "id": "OgbAisEmhF_W"
      },
      "execution_count": null,
      "outputs": []
    }
  ]
}